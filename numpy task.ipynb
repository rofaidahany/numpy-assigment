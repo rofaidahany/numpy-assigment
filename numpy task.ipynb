{
 "cells": [
  {
   "cell_type": "markdown",
   "id": "e388ffe3",
   "metadata": {},
   "source": [
    "#### create a 2d array with shape (3,3) containing random integers between 1 and 20"
   ]
  },
  {
   "cell_type": "code",
   "execution_count": 15,
   "id": "8e772620",
   "metadata": {},
   "outputs": [
    {
     "data": {
      "text/plain": [
       "array([[ 1, 18,  5],\n",
       "       [15, 12,  7],\n",
       "       [ 6, 19, 10]])"
      ]
     },
     "execution_count": 15,
     "metadata": {},
     "output_type": "execute_result"
    }
   ],
   "source": [
    "import numpy as np\n",
    "\n",
    "a = np.array([[1,18,5],[15,12,7],[6,19,10]])\n",
    "a\n"
   ]
  },
  {
   "cell_type": "markdown",
   "id": "3408d422",
   "metadata": {},
   "source": [
    "#### write a numpy program to create a (5,5) array with random values and find the minimum and maximum values for each row"
   ]
  },
  {
   "cell_type": "code",
   "execution_count": 20,
   "id": "fa5d4f23",
   "metadata": {},
   "outputs": [
    {
     "name": "stdout",
     "output_type": "stream",
     "text": [
      "the largest numbers in each row inside the array : [98 26 42 93 50]\n"
     ]
    }
   ],
   "source": [
    "b = np.array([[2,6,9,23,98],[4,19,26,9,17],[10,42,22,34,29],[6,93,12,21,49],[7,13,0,1,50]])\n",
    "print(f\"the largest numbers in each row inside the array : {np.max(b,axis=1)}\")"
   ]
  },
  {
   "cell_type": "markdown",
   "id": "ef16285f",
   "metadata": {},
   "source": [
    "#### write a numpy program to create a random vector of size 10 and sort it "
   ]
  },
  {
   "cell_type": "code",
   "execution_count": 37,
   "id": "5837b8ff",
   "metadata": {},
   "outputs": [
    {
     "name": "stdout",
     "output_type": "stream",
     "text": [
      "[0.16836323 0.21602789 0.3844959  0.4889088  0.60268961 0.66946674\n",
      " 0.69328854 0.7006848  0.84696959 0.97947196]\n"
     ]
    }
   ],
   "source": [
    "ar = np.random.rand(10)\n",
    "sorted_ar = np.sort(ar)\n",
    "print(f\"{sorted_ar}\")"
   ]
  },
  {
   "cell_type": "markdown",
   "id": "5f90876a",
   "metadata": {},
   "source": [
    "#### write a numpy program to find the most frequent value in array "
   ]
  },
  {
   "cell_type": "code",
   "execution_count": 45,
   "id": "3ff81f23",
   "metadata": {},
   "outputs": [
    {
     "name": "stdout",
     "output_type": "stream",
     "text": [
      "17\n"
     ]
    }
   ],
   "source": [
    "ab =np.array([1,17,86,17,8,1,17,5,86,1,17,9])\n",
    "ab_list = ab.tolist()\n",
    "big_count = 0\n",
    "freq = 0\n",
    "for num in ab_list :\n",
    "    count = ab_list.count(num)\n",
    "    if count > big_count :\n",
    "        big_count = count\n",
    "        freq = num \n",
    "    else : \n",
    "        continue \n",
    "    \n",
    "print(f\"{freq}\")"
   ]
  },
  {
   "cell_type": "markdown",
   "id": "71dfc6a9",
   "metadata": {},
   "source": [
    "#### replace all even numbers in the 2d array with 0"
   ]
  },
  {
   "cell_type": "code",
   "execution_count": 48,
   "id": "8ced71e8",
   "metadata": {},
   "outputs": [
    {
     "data": {
      "text/plain": [
       "array([[ 1,  0,  0],\n",
       "       [ 3,  7,  9],\n",
       "       [ 0, 17, 11]])"
      ]
     },
     "execution_count": 48,
     "metadata": {},
     "output_type": "execute_result"
    }
   ],
   "source": [
    "arr = np.array([[1,16,14],[3,7,9],[20,17,11]])\n",
    "arr[arr%2==0]=0\n",
    "arr"
   ]
  },
  {
   "cell_type": "markdown",
   "id": "d7aafe21",
   "metadata": {},
   "source": [
    "#### apply the square root function to each element of the 1d array "
   ]
  },
  {
   "cell_type": "code",
   "execution_count": 50,
   "id": "1d1b9753",
   "metadata": {},
   "outputs": [
    {
     "name": "stdout",
     "output_type": "stream",
     "text": [
      "[3. 2. 4. 9. 4.]\n"
     ]
    }
   ],
   "source": [
    "c = np.array([9,4,16,81,16])\n",
    "sqrt_c= np.sqrt(c)\n",
    "print(f\"{sqrt_c}\")"
   ]
  },
  {
   "cell_type": "markdown",
   "id": "bff19192",
   "metadata": {},
   "source": [
    "#### write a numpy program to create a 3*3 array with random values and subtract the mean of each row from each element"
   ]
  },
  {
   "cell_type": "code",
   "execution_count": 66,
   "id": "14583e54",
   "metadata": {},
   "outputs": [
    {
     "name": "stdout",
     "output_type": "stream",
     "text": [
      "3.0 - [1 3 5] = [ 2.  0. -2.]\n",
      "3.0 - [2 6 4] = [ 1. -3. -1.]\n",
      "3.0 - [ 1  7 10] = [ 2. -4. -7.]\n",
      "4.0 - [1 3 5] = [ 3.  1. -1.]\n",
      "4.0 - [2 6 4] = [ 2. -2.  0.]\n",
      "4.0 - [ 1  7 10] = [ 3. -3. -6.]\n",
      "6.0 - [1 3 5] = [5. 3. 1.]\n",
      "6.0 - [2 6 4] = [4. 0. 2.]\n",
      "6.0 - [ 1  7 10] = [ 5. -1. -4.]\n"
     ]
    }
   ],
   "source": [
    "d = np.array([[1,3,5],[2,6,4],[1,7,10]])\n",
    "ndx = 0 \n",
    "mean_arr = np.array([])\n",
    "for row in d : \n",
    "    mean_arr = np.insert(mean_arr,ndx,np.mean(d[ndx]))\n",
    "    ndx+=1\n",
    "#for ndx,row in enumerate(d) : \n",
    "    #mean_arr = np.insert(mean_arr,ndx,np.mean(row))\n",
    "for mean_num in mean_arr :\n",
    "    for num in d :\n",
    "        print(f\"{mean_num} - {num} = {mean_num - num}\")"
   ]
  },
  {
   "cell_type": "markdown",
   "id": "5cccba39",
   "metadata": {},
   "source": [
    "#### create a 1d array containing the first 20 odd numbers "
   ]
  },
  {
   "cell_type": "code",
   "execution_count": 70,
   "id": "759cd601",
   "metadata": {},
   "outputs": [
    {
     "name": "stdout",
     "output_type": "stream",
     "text": [
      "[ 1.  3.  5.  7.  9. 11. 13. 15. 17. 19.]\n"
     ]
    }
   ],
   "source": [
    "odd_arr = np.array([])\n",
    "ndx=0\n",
    "for num in range (20):\n",
    "    if num %2!= 0:\n",
    "        odd_arr= np.insert(odd_arr,ndx,num)\n",
    "        ndx+=1\n",
    "    else :\n",
    "        continue    \n",
    "print(f\"{odd_arr}\")\n",
    "    "
   ]
  },
  {
   "cell_type": "markdown",
   "id": "98fec68b",
   "metadata": {},
   "source": [
    "#### write a numpy program to create a 5*5 array with random values and find the second-largest value in each column"
   ]
  },
  {
   "cell_type": "code",
   "execution_count": 75,
   "id": "31e036db",
   "metadata": {},
   "outputs": [
    {
     "name": "stdout",
     "output_type": "stream",
     "text": [
      "[[ 1  6  4 10  0]\n",
      " [ 7  6  7 15  0]\n",
      " [11  9 33 18  2]\n",
      " [13 13 44 19 22]\n",
      " [13 29 64 23 44]]\n",
      " the second largest number in each column : [13 13 44 19 22]\n"
     ]
    }
   ],
   "source": [
    "arr5=np.array([[1,6,4,19,0],[13,6,7,23,0],[11,29,33,10,2],[7,13,64,15,22],[13,9,44,18,44]])\n",
    "sorted_ar5=np.sort(arr5,axis=0)\n",
    "print(sorted_ar5)\n",
    "print(f\" the second largest number in each column : {sorted_ar5[3,:]}\")"
   ]
  },
  {
   "cell_type": "markdown",
   "id": "7eca8bb7",
   "metadata": {},
   "source": [
    "#### write a numpy program to create a 4*4 array with random values and find the sum of each row "
   ]
  },
  {
   "cell_type": "code",
   "execution_count": 78,
   "id": "70ebf22e",
   "metadata": {},
   "outputs": [
    {
     "name": "stdout",
     "output_type": "stream",
     "text": [
      "sum of raw 1 = 17\n",
      "sum of raw 2 = 31\n",
      "sum of raw 3 = 23\n",
      "sum of raw 4 = 36\n"
     ]
    }
   ],
   "source": [
    "array = np.array([[2,5,4,6],[17,1,10,3],[5,7,8,3],[13,2,6,15]])\n",
    "ndx=0\n",
    "for row in range (4):\n",
    "    sum = np.sum(array[ndx])\n",
    "    ndx+=1\n",
    "    print(f\"sum of raw {ndx} = {sum}\")\n",
    "    "
   ]
  }
 ],
 "metadata": {
  "kernelspec": {
   "display_name": "base",
   "language": "python",
   "name": "python3"
  },
  "language_info": {
   "codemirror_mode": {
    "name": "ipython",
    "version": 3
   },
   "file_extension": ".py",
   "mimetype": "text/x-python",
   "name": "python",
   "nbconvert_exporter": "python",
   "pygments_lexer": "ipython3",
   "version": "3.13.5"
  }
 },
 "nbformat": 4,
 "nbformat_minor": 5
}
